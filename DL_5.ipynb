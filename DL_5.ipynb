{
  "nbformat": 4,
  "nbformat_minor": 0,
  "metadata": {
    "colab": {
      "provenance": [],
      "authorship_tag": "ABX9TyPR4dZNpLt7veM9MQJ7Y0F4",
      "include_colab_link": true
    },
    "kernelspec": {
      "name": "python3",
      "display_name": "Python 3"
    },
    "language_info": {
      "name": "python"
    }
  },
  "cells": [
    {
      "cell_type": "markdown",
      "metadata": {
        "id": "view-in-github",
        "colab_type": "text"
      },
      "source": [
        "<a href=\"https://colab.research.google.com/github/TanayKumar76/DeepLearning_1BM22AD062/blob/main/DL_5.ipynb\" target=\"_parent\"><img src=\"https://colab.research.google.com/assets/colab-badge.svg\" alt=\"Open In Colab\"/></a>"
      ]
    },
    {
      "cell_type": "code",
      "execution_count": 2,
      "metadata": {
        "colab": {
          "base_uri": "https://localhost:8080/"
        },
        "id": "NRMqjSAfEQXd",
        "outputId": "3f7e0e01-f2a5-4e40-936c-eed225e4b4de"
      },
      "outputs": [
        {
          "output_type": "stream",
          "name": "stdout",
          "text": [
            "Epoch 1/5\n",
            "\u001b[1m750/750\u001b[0m \u001b[32m━━━━━━━━━━━━━━━━━━━━\u001b[0m\u001b[37m\u001b[0m \u001b[1m12s\u001b[0m 15ms/step - accuracy: 0.6865 - loss: 0.9229 - val_accuracy: 0.9225 - val_loss: 0.2542\n",
            "Epoch 2/5\n",
            "\u001b[1m750/750\u001b[0m \u001b[32m━━━━━━━━━━━━━━━━━━━━\u001b[0m\u001b[37m\u001b[0m \u001b[1m20s\u001b[0m 14ms/step - accuracy: 0.9311 - loss: 0.2306 - val_accuracy: 0.9488 - val_loss: 0.1718\n",
            "Epoch 3/5\n",
            "\u001b[1m750/750\u001b[0m \u001b[32m━━━━━━━━━━━━━━━━━━━━\u001b[0m\u001b[37m\u001b[0m \u001b[1m20s\u001b[0m 14ms/step - accuracy: 0.9485 - loss: 0.1773 - val_accuracy: 0.9544 - val_loss: 0.1532\n",
            "Epoch 4/5\n",
            "\u001b[1m750/750\u001b[0m \u001b[32m━━━━━━━━━━━━━━━━━━━━\u001b[0m\u001b[37m\u001b[0m \u001b[1m20s\u001b[0m 14ms/step - accuracy: 0.9535 - loss: 0.1572 - val_accuracy: 0.9482 - val_loss: 0.1838\n",
            "Epoch 5/5\n",
            "\u001b[1m750/750\u001b[0m \u001b[32m━━━━━━━━━━━━━━━━━━━━\u001b[0m\u001b[37m\u001b[0m \u001b[1m11s\u001b[0m 14ms/step - accuracy: 0.9561 - loss: 0.1466 - val_accuracy: 0.9628 - val_loss: 0.1323\n",
            "313/313 - 1s - 3ms/step - accuracy: 0.9636 - loss: 0.1196\n",
            "Test Accuracy: 0.96\n"
          ]
        }
      ],
      "source": [
        "import numpy as np\n",
        "import tensorflow as tf\n",
        "from tensorflow.keras.datasets import mnist\n",
        "from tensorflow.keras.utils import to_categorical\n",
        "from tensorflow.keras.models import Sequential\n",
        "from tensorflow.keras.layers import SimpleRNN,Dense,Flatten\n",
        "\n",
        "\n",
        "(x_train,y_train),(x_test,y_test)=mnist.load_data()\n",
        "x_train=x_train/255.0\n",
        "x_test=x_test/255.0\n",
        "\n",
        "y_train=to_categorical(y_train,num_classes=10)\n",
        "y_test=to_categorical(y_test,num_classes=10)\n",
        "\n",
        "timesteps=x_train.shape[1]\n",
        "input_dim=x_train.shape[2]\n",
        "\n",
        "model=Sequential([\n",
        "    SimpleRNN(128,input_shape=(timesteps,input_dim),activation='relu'),\n",
        "    Dense(64,activation='relu'),\n",
        "    Dense(10,activation='softmax')\n",
        "])\n",
        "\n",
        "model.compile(optimizer='adam',loss='categorical_crossentropy',metrics=['accuracy'])\n",
        "model.fit(x_train,y_train,epochs=5,batch_size=64,validation_split=0.2)\n",
        "\n",
        "test_loss,test_acc=model.evaluate(x_test,y_test,verbose=2)\n",
        "print(f\"Test Accuracy: {test_acc:.2f}\")\n",
        "\n"
      ]
    },
    {
      "cell_type": "code",
      "source": [
        "import numpy as np\n",
        "import tensorflow as tf\n",
        "from tensorflow.keras.datasets import mnist\n",
        "from tensorflow.keras.utils import to_categorical\n",
        "from tensorflow.keras.models import Sequential\n",
        "from tensorflow.keras.layers import LSTM,Dense,Flatten\n",
        "from PIL import Image\n",
        "\n",
        "\n",
        "(x_train,y_train),(x_test,y_test)=mnist.load_data()\n",
        "x_train=x_train/255.0\n",
        "x_test=x_test/255.0\n",
        "\n",
        "y_train=to_categorical(y_train,num_classes=10)\n",
        "y_test=to_categorical(y_test,num_classes=10)\n",
        "\n",
        "timesteps=x_train.shape[1]\n",
        "input_dim=x_train.shape[2]\n",
        "\n",
        "model=Sequential([\n",
        "    LSTM(128,input_shape=(timesteps,input_dim),activation='relu'),\n",
        "    Dense(64,activation='relu'),\n",
        "    Dense(10,activation='softmax')\n",
        "])\n",
        "\n",
        "model.compile(optimizer='adam',loss='categorical_crossentropy',metrics=['accuracy'])\n",
        "model.fit(x_train,y_train,epochs=5,batch_size=72,validation_split=0.2)\n",
        "\n",
        "test_loss,test_acc=model.evaluate(x_test,y_test,verbose=2)\n",
        "print(f\"Test Accuracy: {test_acc:.2f}\")\n",
        "\n",
        "img_path='/content/7.png'\n",
        "img = Image.open(img_path).convert('L')\n",
        "img=img.resize((28,28))\n",
        "img_arr=np.array(img)/255.0\n",
        "img_arr=np.reshape(img_arr,(1,28,28))\n",
        "\n",
        "y_pred=model.predict(img_arr)\n",
        "pred_class=np.argmax(y_pred)\n",
        "print(f\"Predicted Class:{pred_class}\")"
      ],
      "metadata": {
        "colab": {
          "base_uri": "https://localhost:8080/"
        },
        "id": "4i5uwyEPFNLp",
        "outputId": "eb35e235-b467-4cce-92e9-7084e9da7b4e"
      },
      "execution_count": 4,
      "outputs": [
        {
          "output_type": "stream",
          "name": "stdout",
          "text": [
            "Epoch 1/5\n",
            "\u001b[1m667/667\u001b[0m \u001b[32m━━━━━━━━━━━━━━━━━━━━\u001b[0m\u001b[37m\u001b[0m \u001b[1m45s\u001b[0m 64ms/step - accuracy: 0.5744 - loss: 1.2520 - val_accuracy: 0.9432 - val_loss: 0.1866\n",
            "Epoch 2/5\n",
            "\u001b[1m667/667\u001b[0m \u001b[32m━━━━━━━━━━━━━━━━━━━━\u001b[0m\u001b[37m\u001b[0m \u001b[1m44s\u001b[0m 66ms/step - accuracy: 0.9440 - loss: 0.1821 - val_accuracy: 0.9613 - val_loss: 0.1307\n",
            "Epoch 3/5\n",
            "\u001b[1m667/667\u001b[0m \u001b[32m━━━━━━━━━━━━━━━━━━━━\u001b[0m\u001b[37m\u001b[0m \u001b[1m83s\u001b[0m 67ms/step - accuracy: 0.9633 - loss: 0.1176 - val_accuracy: 0.9646 - val_loss: 0.1194\n",
            "Epoch 4/5\n",
            "\u001b[1m667/667\u001b[0m \u001b[32m━━━━━━━━━━━━━━━━━━━━\u001b[0m\u001b[37m\u001b[0m \u001b[1m80s\u001b[0m 65ms/step - accuracy: 0.9726 - loss: 0.0905 - val_accuracy: 0.9652 - val_loss: 0.1206\n",
            "Epoch 5/5\n",
            "\u001b[1m667/667\u001b[0m \u001b[32m━━━━━━━━━━━━━━━━━━━━\u001b[0m\u001b[37m\u001b[0m \u001b[1m80s\u001b[0m 62ms/step - accuracy: 0.9762 - loss: 0.0760 - val_accuracy: 0.9765 - val_loss: 0.0815\n",
            "313/313 - 7s - 21ms/step - accuracy: 0.9777 - loss: 0.0706\n",
            "Test Accuracy: 0.98\n",
            "\u001b[1m1/1\u001b[0m \u001b[32m━━━━━━━━━━━━━━━━━━━━\u001b[0m\u001b[37m\u001b[0m \u001b[1m0s\u001b[0m 179ms/step\n",
            "Predicted Class:0\n"
          ]
        }
      ]
    }
  ]
}